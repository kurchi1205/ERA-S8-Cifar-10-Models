{
 "cells": [
  {
   "cell_type": "code",
   "execution_count": 1,
   "metadata": {
    "tags": []
   },
   "outputs": [],
   "source": [
    "%load_ext autoreload\n",
    "%autoreload 2"
   ]
  },
  {
   "cell_type": "code",
   "execution_count": 2,
   "metadata": {
    "tags": []
   },
   "outputs": [
    {
     "name": "stdout",
     "output_type": "stream",
     "text": [
      "Looking in indexes: https://pypi.org/simple, https://download.pytorch.org/whl/cu113\n",
      "Collecting torch==1.12.1+cu113\n",
      "  Using cached https://download.pytorch.org/whl/cu113/torch-1.12.1%2Bcu113-cp39-cp39-linux_x86_64.whl (1837.7 MB)\n",
      "Collecting torchvision==0.13.1+cu113\n",
      "  Using cached https://download.pytorch.org/whl/cu113/torchvision-0.13.1%2Bcu113-cp39-cp39-linux_x86_64.whl (23.4 MB)\n",
      "Collecting torchaudio==0.12.1\n",
      "  Using cached https://download.pytorch.org/whl/cu113/torchaudio-0.12.1%2Bcu113-cp39-cp39-linux_x86_64.whl (3.8 MB)\n",
      "Requirement already satisfied: typing-extensions in /home/studio-lab-user/.conda/envs/default/lib/python3.9/site-packages (from torch==1.12.1+cu113) (4.5.0)\n",
      "Collecting requests\n",
      "  Downloading requests-2.31.0-py3-none-any.whl (62 kB)\n",
      "\u001b[K     |████████████████████████████████| 62 kB 2.3 MB/s  eta 0:00:01\n",
      "\u001b[?25hCollecting pillow!=8.3.*,>=5.3.0\n",
      "  Using cached Pillow-9.5.0-cp39-cp39-manylinux_2_28_x86_64.whl (3.4 MB)\n",
      "Collecting numpy\n",
      "  Using cached numpy-1.25.0-cp39-cp39-manylinux_2_17_x86_64.manylinux2014_x86_64.whl (17.7 MB)\n",
      "Collecting charset-normalizer<4,>=2\n",
      "  Downloading charset_normalizer-3.1.0-cp39-cp39-manylinux_2_17_x86_64.manylinux2014_x86_64.whl (199 kB)\n",
      "\u001b[K     |████████████████████████████████| 199 kB 42.9 MB/s eta 0:00:01\n",
      "\u001b[?25hRequirement already satisfied: idna<4,>=2.5 in /home/studio-lab-user/.conda/envs/default/lib/python3.9/site-packages (from requests->torchvision==0.13.1+cu113) (3.4)\n",
      "Collecting urllib3<3,>=1.21.1\n",
      "  Downloading urllib3-2.0.3-py3-none-any.whl (123 kB)\n",
      "\u001b[K     |████████████████████████████████| 123 kB 103.0 MB/s eta 0:00:01\n",
      "\u001b[?25hCollecting certifi>=2017.4.17\n",
      "  Downloading certifi-2023.5.7-py3-none-any.whl (156 kB)\n",
      "\u001b[K     |████████████████████████████████| 156 kB 95.5 MB/s eta 0:00:01\n",
      "\u001b[?25hInstalling collected packages: urllib3, charset-normalizer, certifi, torch, requests, pillow, numpy, torchvision, torchaudio\n",
      "Successfully installed certifi-2023.5.7 charset-normalizer-3.1.0 numpy-1.25.0 pillow-9.5.0 requests-2.31.0 torch-1.12.1+cu113 torchaudio-0.12.1+cu113 torchvision-0.13.1+cu113 urllib3-2.0.3\n",
      "Note: you may need to restart the kernel to use updated packages.\n"
     ]
    }
   ],
   "source": [
    "%pip install torch==1.12.1+cu113 torchvision==0.13.1+cu113 torchaudio==0.12.1 --extra-index-url https://download.pytorch.org/whl/cu113"
   ]
  },
  {
   "cell_type": "code",
   "execution_count": 6,
   "metadata": {
    "tags": []
   },
   "outputs": [
    {
     "name": "stdout",
     "output_type": "stream",
     "text": [
      "Collecting matplotlib\n",
      "  Downloading matplotlib-3.7.1-cp39-cp39-manylinux_2_17_x86_64.manylinux2014_x86_64.whl (11.6 MB)\n",
      "\u001b[K     |████████████████████████████████| 11.6 MB 12.9 MB/s eta 0:00:01\n",
      "\u001b[?25hRequirement already satisfied: python-dateutil>=2.7 in /home/studio-lab-user/.conda/envs/default/lib/python3.9/site-packages (from matplotlib) (2.8.2)\n",
      "Requirement already satisfied: numpy>=1.20 in /home/studio-lab-user/.conda/envs/default/lib/python3.9/site-packages (from matplotlib) (1.25.0)\n",
      "Collecting fonttools>=4.22.0\n",
      "  Downloading fonttools-4.40.0-cp39-cp39-manylinux_2_17_x86_64.manylinux2014_x86_64.whl (4.4 MB)\n",
      "\u001b[K     |████████████████████████████████| 4.4 MB 74.4 MB/s eta 0:00:01\n",
      "\u001b[?25hCollecting kiwisolver>=1.0.1\n",
      "  Downloading kiwisolver-1.4.4-cp39-cp39-manylinux_2_12_x86_64.manylinux2010_x86_64.whl (1.6 MB)\n",
      "\u001b[K     |████████████████████████████████| 1.6 MB 60.9 MB/s eta 0:00:01\n",
      "\u001b[?25hRequirement already satisfied: importlib-resources>=3.2.0 in /home/studio-lab-user/.conda/envs/default/lib/python3.9/site-packages (from matplotlib) (5.12.0)\n",
      "Collecting cycler>=0.10\n",
      "  Downloading cycler-0.11.0-py3-none-any.whl (6.4 kB)\n",
      "Requirement already satisfied: pillow>=6.2.0 in /home/studio-lab-user/.conda/envs/default/lib/python3.9/site-packages (from matplotlib) (9.5.0)\n",
      "Collecting contourpy>=1.0.1\n",
      "  Downloading contourpy-1.1.0-cp39-cp39-manylinux_2_17_x86_64.manylinux2014_x86_64.whl (300 kB)\n",
      "\u001b[K     |████████████████████████████████| 300 kB 104.0 MB/s eta 0:00:01\n",
      "\u001b[?25hCollecting pyparsing>=2.3.1\n",
      "  Downloading pyparsing-3.1.0-py3-none-any.whl (102 kB)\n",
      "\u001b[K     |████████████████████████████████| 102 kB 92.3 MB/s eta 0:00:01\n",
      "\u001b[?25hRequirement already satisfied: packaging>=20.0 in /home/studio-lab-user/.conda/envs/default/lib/python3.9/site-packages (from matplotlib) (23.0)\n",
      "Requirement already satisfied: zipp>=3.1.0 in /home/studio-lab-user/.conda/envs/default/lib/python3.9/site-packages (from importlib-resources>=3.2.0->matplotlib) (3.15.0)\n",
      "Requirement already satisfied: six>=1.5 in /home/studio-lab-user/.conda/envs/default/lib/python3.9/site-packages (from python-dateutil>=2.7->matplotlib) (1.16.0)\n",
      "Installing collected packages: pyparsing, kiwisolver, fonttools, cycler, contourpy, matplotlib\n",
      "Successfully installed contourpy-1.1.0 cycler-0.11.0 fonttools-4.40.0 kiwisolver-1.4.4 matplotlib-3.7.1 pyparsing-3.1.0\n",
      "Note: you may need to restart the kernel to use updated packages.\n"
     ]
    }
   ],
   "source": [
    "%pip install matplotlib"
   ]
  },
  {
   "cell_type": "code",
   "execution_count": 2,
   "metadata": {
    "tags": []
   },
   "outputs": [],
   "source": [
    "from data import get_data\n",
    "from utils_plot import imshow\n",
    "import torch\n",
    "import numpy as np\n",
    "import torchvision\n"
   ]
  },
  {
   "cell_type": "code",
   "execution_count": 3,
   "metadata": {},
   "outputs": [
    {
     "name": "stdout",
     "output_type": "stream",
     "text": [
      "Compose(\n",
      "    ToTensor()\n",
      ")\n",
      "Files already downloaded and verified\n",
      "Compose(\n",
      "    ToTensor()\n",
      ")\n",
      "Files already downloaded and verified\n"
     ]
    }
   ],
   "source": [
    "'''\n",
    "Loading data without normalization\n",
    "'''\n",
    "\n",
    "train_ds = get_data(train=True, normalize=False)\n",
    "test_ds = get_data(train=False, normalize=False)"
   ]
  },
  {
   "cell_type": "code",
   "execution_count": 4,
   "metadata": {
    "tags": []
   },
   "outputs": [
    {
     "name": "stdout",
     "output_type": "stream",
     "text": [
      "CUDA Available? False\n"
     ]
    }
   ],
   "source": [
    "'''\n",
    "Feeding the data to dataloader to get tensors\n",
    "'''\n",
    "\n",
    "\n",
    "\n",
    "SEED = 1\n",
    "\n",
    "# CUDA?\n",
    "cuda = torch.cuda.is_available()\n",
    "print(\"CUDA Available?\", cuda)\n",
    "\n",
    "# For reproducibility\n",
    "torch.manual_seed(SEED)\n",
    "\n",
    "if cuda:\n",
    "    torch.cuda.manual_seed(SEED)\n",
    "\n",
    "# dataloader arguments - something you'll fetch these from cmdprmt\n",
    "dataloader_args = dict(shuffle=True, batch_size=128, num_workers=4, pin_memory=True) if cuda else dict(shuffle=True, batch_size=64)\n",
    "\n",
    "# train dataloader\n",
    "train_loader = torch.utils.data.DataLoader(train_ds, **dataloader_args)\n",
    "\n",
    "# test dataloader\n",
    "test_loader = torch.utils.data.DataLoader(test_ds, **dataloader_args)"
   ]
  },
  {
   "cell_type": "code",
   "execution_count": 5,
   "metadata": {
    "tags": []
   },
   "outputs": [
    {
     "name": "stdout",
     "output_type": "stream",
     "text": [
      "[Train]\n",
      " - Numpy Shape: (50000, 32, 32, 3)\n",
      " - Tensor Shape: torch.Size([64, 3, 32, 32])\n",
      " - min: 0\n",
      " - max: 255\n",
      " - mean R: tensor(0.5002)\n",
      " - std R: tensor(0.2503)\n",
      " - var R: tensor(0.0626)\n",
      " - mean G: tensor(0.4978)\n",
      " - std G: tensor(0.2446)\n",
      " - var G: tensor(0.0598)\n",
      " - mean B: tensor(0.4644)\n",
      " - std B: tensor(0.2647)\n",
      " - var B: tensor(0.0701)\n"
     ]
    }
   ],
   "source": [
    "'''\n",
    "Getting statistics of the data to normalize accordingly\n",
    "'''\n",
    "\n",
    "dataiter = iter(train_loader)\n",
    "images, labels = next(dataiter)\n",
    "print('[Train]')\n",
    "print(' - Numpy Shape:', train_ds.data.shape)\n",
    "print(' - Tensor Shape:', images.size())\n",
    "print(' - min:', np.min(train_ds.data))\n",
    "print(' - max:', np.max(train_ds.data))\n",
    "print(' - mean R:', torch.mean(images[:, 0, :, :]))\n",
    "print(' - std R:', torch.std(images[:, 0, :, :]))\n",
    "print(' - var R:', torch.var(images[:, 0, :, :]))\n",
    "\n",
    "print(' - mean G:', torch.mean(images[:, 1, :, :]))\n",
    "print(' - std G:', torch.std(images[:, 1, :, :]))\n",
    "print(' - var G:', torch.var(images[:, 1, :, :]))\n",
    "\n",
    "print(' - mean B:', torch.mean(images[:, 2, :, :]))\n",
    "print(' - std B:', torch.std(images[:, 2, :, :]))\n",
    "print(' - var B:', torch.var(images[:, 2, :, :]))"
   ]
  },
  {
   "cell_type": "code",
   "execution_count": 6,
   "metadata": {
    "tags": []
   },
   "outputs": [
    {
     "name": "stdout",
     "output_type": "stream",
     "text": [
      "Compose(\n",
      "    ToTensor()\n",
      "    Normalize(mean=(0.5, 0.49, 0.45), std=(0.23, 0.23, 0.25))\n",
      ")\n",
      "Files already downloaded and verified\n",
      "Compose(\n",
      "    ToTensor()\n",
      "    Normalize(mean=(0.5, 0.49, 0.45), std=(0.23, 0.23, 0.25))\n",
      ")\n",
      "Files already downloaded and verified\n"
     ]
    }
   ],
   "source": [
    "'''\n",
    "Getting normalized data\n",
    "'''\n",
    "\n",
    "train_ds = get_data(train=True, normalize=True)\n",
    "test_ds = get_data(train=False, normalize=True)"
   ]
  },
  {
   "cell_type": "code",
   "execution_count": 7,
   "metadata": {
    "tags": []
   },
   "outputs": [
    {
     "name": "stdout",
     "output_type": "stream",
     "text": [
      "CUDA Available? False\n"
     ]
    }
   ],
   "source": [
    "SEED = 1\n",
    "\n",
    "# CUDA?\n",
    "cuda = torch.cuda.is_available()\n",
    "print(\"CUDA Available?\", cuda)\n",
    "\n",
    "# For reproducibility\n",
    "torch.manual_seed(SEED)\n",
    "\n",
    "if cuda:\n",
    "    torch.cuda.manual_seed(SEED)\n",
    "\n",
    "# dataloader arguments - something you'll fetch these from cmdprmt\n",
    "dataloader_args = dict(shuffle=True, batch_size=128, num_workers=4, pin_memory=True) if cuda else dict(shuffle=True, batch_size=64)\n",
    "\n",
    "# train dataloader\n",
    "train_loader = torch.utils.data.DataLoader(train_ds, **dataloader_args)\n",
    "\n",
    "# test dataloader\n",
    "test_loader = torch.utils.data.DataLoader(test_ds, **dataloader_args)"
   ]
  },
  {
   "cell_type": "code",
   "execution_count": 8,
   "metadata": {
    "tags": []
   },
   "outputs": [
    {
     "name": "stdout",
     "output_type": "stream",
     "text": [
      "[Train]\n",
      " - Numpy Shape: (50000, 32, 32, 3)\n",
      " - Tensor Shape: torch.Size([64, 3, 32, 32])\n",
      " - min: 0\n",
      " - max: 255\n",
      " - mean R: tensor(0.0010)\n",
      " - std R: tensor(1.0881)\n",
      " - var R: tensor(1.1840)\n",
      " - mean G: tensor(0.0341)\n",
      " - std G: tensor(1.0633)\n",
      " - var G: tensor(1.1305)\n",
      " - mean B: tensor(0.0576)\n",
      " - std B: tensor(1.0590)\n",
      " - var B: tensor(1.1214)\n"
     ]
    }
   ],
   "source": [
    "dataiter = iter(train_loader)\n",
    "images, labels = next(dataiter)\n",
    "print('[Train]')\n",
    "print(' - Numpy Shape:', train_ds.data.shape)\n",
    "print(' - Tensor Shape:', images.size())\n",
    "print(' - min:', np.min(train_ds.data))\n",
    "print(' - max:', np.max(train_ds.data))\n",
    "print(' - mean R:', torch.mean(images[:, 0, :, :]))\n",
    "print(' - std R:', torch.std(images[:, 0, :, :]))\n",
    "print(' - var R:', torch.var(images[:, 0, :, :]))\n",
    "\n",
    "print(' - mean G:', torch.mean(images[:, 1, :, :]))\n",
    "print(' - std G:', torch.std(images[:, 1, :, :]))\n",
    "print(' - var G:', torch.var(images[:, 1, :, :]))\n",
    "\n",
    "print(' - mean B:', torch.mean(images[:, 2, :, :]))\n",
    "print(' - std B:', torch.std(images[:, 2, :, :]))\n",
    "print(' - var B:', torch.var(images[:, 2, :, :]))"
   ]
  },
  {
   "cell_type": "code",
   "execution_count": 9,
   "metadata": {
    "tags": []
   },
   "outputs": [
    {
     "name": "stderr",
     "output_type": "stream",
     "text": [
      "Clipping input data to the valid range for imshow with RGB data ([0..1] for floats or [0..255] for integers).\n"
     ]
    },
    {
     "data": {
      "image/png": "[encoded data removed]",
      "text/plain": [
       "<Figure size 640x480 with 1 Axes>"
      ]
     },
     "metadata": {},
     "output_type": "display_data"
    },
    {
     "name": "stdout",
     "output_type": "stream",
     "text": [
      "horse automobile automobile deer \n"
     ]
    }
   ],
   "source": [
    "# get some random training images\n",
    "batch_size=4\n",
    "dataiter = iter(train_loader)\n",
    "classes = train_ds.classes\n",
    "images, labels = next(dataiter)\n",
    "sampled_images = images[0: batch_size]\n",
    "sampled_labels = labels[0: batch_size]\n",
    "\n",
    "# show images\n",
    "imshow(torchvision.utils.make_grid(sampled_images))\n",
    "# print labels\n",
    "print(' '.join(f'{classes[sampled_labels[j]]:5s}' for j in range(batch_size)))"
   ]
  },
  {
   "cell_type": "code",
   "execution_count": 10,
   "metadata": {
    "tags": []
   },
   "outputs": [
    {
     "name": "stderr",
     "output_type": "stream",
     "text": [
      "Clipping input data to the valid range for imshow with RGB data ([0..1] for floats or [0..255] for integers).\n"
     ]
    },
    {
     "data": {
      "image/png": "[encoded data removed]",
      "text/plain": [
       "<Figure size 640x480 with 1 Axes>"
      ]
     },
     "metadata": {},
     "output_type": "display_data"
    },
    {
     "name": "stdout",
     "output_type": "stream",
     "text": [
      "cat   frog  airplane bird \n"
     ]
    }
   ],
   "source": [
    "# get some random testing images\n",
    "batch_size=4\n",
    "dataiter = iter(test_loader)\n",
    "classes = test_ds.classes\n",
    "images, labels = next(dataiter)\n",
    "sampled_images = images[0: batch_size]\n",
    "sampled_labels = labels[0: batch_size]\n",
    "\n",
    "# show images\n",
    "imshow(torchvision.utils.make_grid(sampled_images))\n",
    "# print labels\n",
    "print(' '.join(f'{classes[sampled_labels[j]]:5s}' for j in range(batch_size)))"
   ]
  },
  {
   "cell_type": "code",
   "execution_count": 9,
   "metadata": {},
   "outputs": [],
   "source": [
    "import torch.nn as nn\n",
    "import torch.nn.functional as F\n",
    "import torch\n",
    "class Net(nn.Module):\n",
    "    def __init__(self) -> None:\n",
    "        super(Net, self).__init__()\n",
    "        \n",
    "        self.base_channel = 8\n",
    "        self.conv_block1 = nn.Sequential(\n",
    "            nn.Conv2d(in_channels=3, out_channels=self.base_channel, kernel_size=(3,3), padding=1, bias=False),\n",
    "            nn.ReLU(),\n",
    "            nn.BatchNorm2d(num_features=self.base_channel),\n",
    "            nn.Dropout(0.02)\n",
    "        )\n",
    "\n",
    "        self.conv_block2 = nn.Sequential(\n",
    "            nn.Conv2d(in_channels=self.base_channel, out_channels=self.base_channel, kernel_size=(3,3), padding=1, bias=False),\n",
    "            nn.ReLU(),\n",
    "            nn.BatchNorm2d(num_features=self.base_channel),\n",
    "            nn.Dropout(0.02)\n",
    "        )\n",
    "\n",
    "        self.trans_block1 = nn.Sequential(\n",
    "            nn.Conv2d(in_channels=self.base_channel, out_channels=self.base_channel * 2, kernel_size=(1, 1), padding=0, bias=False),\n",
    "            nn.BatchNorm2d(num_features=self.base_channel * 2)\n",
    "        )\n",
    "\n",
    "        self.pool1 = nn.MaxPool2d((2, 2), stride=2)\n",
    "\n",
    "        self.conv_block3 = nn.Sequential(\n",
    "            nn.Conv2d(in_channels=self.base_channel * 2, out_channels=self.base_channel * 2, kernel_size=(3,3), padding=1, bias=False),\n",
    "            nn.ReLU(),\n",
    "            nn.BatchNorm2d(num_features=self.base_channel * 2),\n",
    "            nn.Dropout(0.02)\n",
    "        )\n",
    "\n",
    "        self.conv_block4 = nn.Sequential(\n",
    "            nn.Conv2d(in_channels=self.base_channel * 2, out_channels=self.base_channel * 2, kernel_size=(3,3), padding=1, bias=False),\n",
    "            nn.ReLU(),\n",
    "            nn.BatchNorm2d(num_features=self.base_channel * 2),\n",
    "            nn.Dropout(0.02)\n",
    "        )\n",
    "\n",
    "        self.conv_block5 = nn.Sequential(\n",
    "            nn.Conv2d(in_channels=self.base_channel * 2, out_channels=self.base_channel * 2, kernel_size=(3,3), padding=1, bias=False),\n",
    "            nn.ReLU(),\n",
    "            nn.BatchNorm2d(num_features=self.base_channel * 2),\n",
    "            nn.Dropout(0.02)\n",
    "        )\n",
    "\n",
    "        self.trans_block2 = nn.Sequential(\n",
    "            nn.Conv2d(in_channels=self.base_channel * 2, out_channels=self.base_channel * 4, kernel_size=(1, 1), padding=0, bias=False),\n",
    "            nn.BatchNorm2d(num_features=self.base_channel * 4)\n",
    "        )\n",
    "        self.pool2 = nn.MaxPool2d((2, 2), stride=2)\n",
    "\n",
    "        self.conv_block6 = nn.Sequential(\n",
    "            nn.Conv2d(in_channels=self.base_channel * 4, out_channels=self.base_channel * 4, kernel_size=(3,3), padding=1, bias=False),\n",
    "            nn.ReLU(),\n",
    "            nn.BatchNorm2d(num_features=self.base_channel * 4),\n",
    "            nn.Dropout(0.02)\n",
    "        )\n",
    "\n",
    "        self.conv_block7 = nn.Sequential(\n",
    "            nn.Conv2d(in_channels=self.base_channel * 4, out_channels=self.base_channel * 4, kernel_size=(3,3), padding=1, bias=False),\n",
    "            nn.ReLU(),\n",
    "            nn.BatchNorm2d(num_features=self.base_channel * 4),\n",
    "            nn.Dropout(0.02)\n",
    "        )\n",
    "\n",
    "        self.conv_block8 = nn.Sequential(\n",
    "            nn.Conv2d(in_channels=self.base_channel * 4, out_channels=self.base_channel * 4, kernel_size=(3,3), padding=1, bias=False),\n",
    "        )\n",
    "\n",
    "        self.gap = nn.Sequential(\n",
    "            nn.AvgPool2d(kernel_size=7) # 7>> 9... nn.AdaptiveAvgPool((1, 1))\n",
    "        )\n",
    "\n",
    "        self.out = nn.Conv2d(in_channels=self.base_channel * 4, out_channels=10, kernel_size=(1,1), bias=False)\n",
    "\n",
    "    def forward(self, x):\n",
    "        x = self.conv_block1(x) # rin = 1 rout = 3\n",
    "        x = self.conv_block2(x) # rin = 3 rout = 5\n",
    "        x = self.trans_block1(x) # rin = 5 rout = 5\n",
    "        x = self.pool1(x) # rin = 5 rout = 6\n",
    "        x = self.conv_block3(x) # rin = 6 rout = 10\n",
    "        x = self.conv_block4(x) # rin = 10 rout = 14\n",
    "        x = self.conv_block5(x) # rin = 14 rout = 18\n",
    "        x = self.trans_block2(x) # rin = 18 rout = 18\n",
    "        x = self.pool2(x) # rin = 18 rout = 20\n",
    "        x = self.conv_block6(x) # rin = 20 rout = 28\n",
    "        x = self.conv_block7(x) # rin = 28 rout = 36\n",
    "        x = self.conv_block8(x) # rin = 36 rout = 44\n",
    "        x = self.gap(x) \n",
    "        x = self.out(x)\n",
    "        x = x.view(-1, 10)\n",
    "        return F.log_softmax(x, dim=-1)\n"
   ]
  },
  {
   "cell_type": "code",
   "execution_count": 10,
   "metadata": {},
   "outputs": [
    {
     "name": "stdout",
     "output_type": "stream",
     "text": [
      "Requirement already satisfied: torchsummary in /Users/prerana/miniconda3/envs/py39/lib/python3.9/site-packages (1.5.1)\n",
      "cpu\n",
      "----------------------------------------------------------------\n",
      "        Layer (type)               Output Shape         Param #\n",
      "================================================================\n",
      "            Conv2d-1            [-1, 8, 32, 32]             216\n",
      "              ReLU-2            [-1, 8, 32, 32]               0\n",
      "       BatchNorm2d-3            [-1, 8, 32, 32]              16\n",
      "           Dropout-4            [-1, 8, 32, 32]               0\n",
      "            Conv2d-5            [-1, 8, 32, 32]             576\n",
      "              ReLU-6            [-1, 8, 32, 32]               0\n",
      "       BatchNorm2d-7            [-1, 8, 32, 32]              16\n",
      "           Dropout-8            [-1, 8, 32, 32]               0\n",
      "            Conv2d-9           [-1, 16, 32, 32]             128\n",
      "      BatchNorm2d-10           [-1, 16, 32, 32]              32\n",
      "        MaxPool2d-11           [-1, 16, 16, 16]               0\n",
      "           Conv2d-12           [-1, 16, 16, 16]           2,304\n",
      "             ReLU-13           [-1, 16, 16, 16]               0\n",
      "      BatchNorm2d-14           [-1, 16, 16, 16]              32\n",
      "          Dropout-15           [-1, 16, 16, 16]               0\n",
      "           Conv2d-16           [-1, 16, 16, 16]           2,304\n",
      "             ReLU-17           [-1, 16, 16, 16]               0\n",
      "      BatchNorm2d-18           [-1, 16, 16, 16]              32\n",
      "          Dropout-19           [-1, 16, 16, 16]               0\n",
      "           Conv2d-20           [-1, 16, 16, 16]           2,304\n",
      "             ReLU-21           [-1, 16, 16, 16]               0\n",
      "      BatchNorm2d-22           [-1, 16, 16, 16]              32\n",
      "          Dropout-23           [-1, 16, 16, 16]               0\n",
      "           Conv2d-24           [-1, 32, 16, 16]             512\n",
      "      BatchNorm2d-25           [-1, 32, 16, 16]              64\n",
      "        MaxPool2d-26             [-1, 32, 8, 8]               0\n",
      "           Conv2d-27             [-1, 32, 8, 8]           9,216\n",
      "             ReLU-28             [-1, 32, 8, 8]               0\n",
      "      BatchNorm2d-29             [-1, 32, 8, 8]              64\n",
      "          Dropout-30             [-1, 32, 8, 8]               0\n",
      "           Conv2d-31             [-1, 32, 8, 8]           9,216\n",
      "             ReLU-32             [-1, 32, 8, 8]               0\n",
      "      BatchNorm2d-33             [-1, 32, 8, 8]              64\n",
      "          Dropout-34             [-1, 32, 8, 8]               0\n",
      "           Conv2d-35             [-1, 32, 8, 8]           9,216\n",
      "        AvgPool2d-36             [-1, 32, 1, 1]               0\n",
      "           Conv2d-37             [-1, 10, 1, 1]             320\n",
      "================================================================\n",
      "Total params: 36,664\n",
      "Trainable params: 36,664\n",
      "Non-trainable params: 0\n",
      "----------------------------------------------------------------\n",
      "Input size (MB): 0.01\n",
      "Forward/backward pass size (MB): 1.44\n",
      "Params size (MB): 0.14\n",
      "Estimated Total Size (MB): 1.59\n",
      "----------------------------------------------------------------\n"
     ]
    }
   ],
   "source": [
    "!pip install torchsummary\n",
    "from torchsummary import summary\n",
    "use_cuda = torch.cuda.is_available()\n",
    "device = torch.device(\"cuda\" if use_cuda else \"cpu\")\n",
    "print(device)\n",
    "\n",
    "model = Net().to(device)\n",
    "summary(model, input_size=(3, 32, 32))"
   ]
  },
  {
   "cell_type": "code",
   "execution_count": null,
   "metadata": {},
   "outputs": [],
   "source": []
  }
 ],
 "metadata": {
  "kernelspec": {
   "display_name": "py39",
   "language": "python",
   "name": "python3"
  },
  "language_info": {
   "codemirror_mode": {
    "name": "ipython",
    "version": 3
   },
   "file_extension": ".py",
   "mimetype": "text/x-python",
   "name": "python",
   "nbconvert_exporter": "python",
   "pygments_lexer": "ipython3",
   "version": "3.9.16"
  }
 },
 "nbformat": 4,
 "nbformat_minor": 4
}
