{
 "cells": [
  {
   "cell_type": "code",
   "execution_count": 1,
   "metadata": {
    "tags": []
   },
   "outputs": [],
   "source": [
    "%load_ext autoreload\n",
    "%autoreload 2"
   ]
  },
  {
   "cell_type": "code",
   "execution_count": 2,
   "metadata": {
    "tags": []
   },
   "outputs": [
    {
     "name": "stdout",
     "output_type": "stream",
     "text": [
      "Looking in indexes: https://pypi.org/simple, https://download.pytorch.org/whl/cu113\n",
      "Collecting torch==1.12.1+cu113\n",
      "  Using cached https://download.pytorch.org/whl/cu113/torch-1.12.1%2Bcu113-cp39-cp39-linux_x86_64.whl (1837.7 MB)\n",
      "Collecting torchvision==0.13.1+cu113\n",
      "  Using cached https://download.pytorch.org/whl/cu113/torchvision-0.13.1%2Bcu113-cp39-cp39-linux_x86_64.whl (23.4 MB)\n",
      "Collecting torchaudio==0.12.1\n",
      "  Using cached https://download.pytorch.org/whl/cu113/torchaudio-0.12.1%2Bcu113-cp39-cp39-linux_x86_64.whl (3.8 MB)\n",
      "Requirement already satisfied: typing-extensions in /home/studio-lab-user/.conda/envs/default/lib/python3.9/site-packages (from torch==1.12.1+cu113) (4.5.0)\n",
      "Collecting requests\n",
      "  Downloading requests-2.31.0-py3-none-any.whl (62 kB)\n",
      "\u001b[K     |████████████████████████████████| 62 kB 2.3 MB/s  eta 0:00:01\n",
      "\u001b[?25hCollecting pillow!=8.3.*,>=5.3.0\n",
      "  Using cached Pillow-9.5.0-cp39-cp39-manylinux_2_28_x86_64.whl (3.4 MB)\n",
      "Collecting numpy\n",
      "  Using cached numpy-1.25.0-cp39-cp39-manylinux_2_17_x86_64.manylinux2014_x86_64.whl (17.7 MB)\n",
      "Collecting charset-normalizer<4,>=2\n",
      "  Downloading charset_normalizer-3.1.0-cp39-cp39-manylinux_2_17_x86_64.manylinux2014_x86_64.whl (199 kB)\n",
      "\u001b[K     |████████████████████████████████| 199 kB 42.9 MB/s eta 0:00:01\n",
      "\u001b[?25hRequirement already satisfied: idna<4,>=2.5 in /home/studio-lab-user/.conda/envs/default/lib/python3.9/site-packages (from requests->torchvision==0.13.1+cu113) (3.4)\n",
      "Collecting urllib3<3,>=1.21.1\n",
      "  Downloading urllib3-2.0.3-py3-none-any.whl (123 kB)\n",
      "\u001b[K     |████████████████████████████████| 123 kB 103.0 MB/s eta 0:00:01\n",
      "\u001b[?25hCollecting certifi>=2017.4.17\n",
      "  Downloading certifi-2023.5.7-py3-none-any.whl (156 kB)\n",
      "\u001b[K     |████████████████████████████████| 156 kB 95.5 MB/s eta 0:00:01\n",
      "\u001b[?25hInstalling collected packages: urllib3, charset-normalizer, certifi, torch, requests, pillow, numpy, torchvision, torchaudio\n",
      "Successfully installed certifi-2023.5.7 charset-normalizer-3.1.0 numpy-1.25.0 pillow-9.5.0 requests-2.31.0 torch-1.12.1+cu113 torchaudio-0.12.1+cu113 torchvision-0.13.1+cu113 urllib3-2.0.3\n",
      "Note: you may need to restart the kernel to use updated packages.\n"
     ]
    }
   ],
   "source": [
    "%pip install torch==1.12.1+cu113 torchvision==0.13.1+cu113 torchaudio==0.12.1 --extra-index-url https://download.pytorch.org/whl/cu113"
   ]
  },
  {
   "cell_type": "code",
   "execution_count": 2,
   "metadata": {
    "tags": []
   },
   "outputs": [
    {
     "name": "stdout",
     "output_type": "stream",
     "text": [
      "Requirement already satisfied: matplotlib in /home/studio-lab-user/.conda/envs/default/lib/python3.9/site-packages (3.7.1)\n",
      "Requirement already satisfied: pillow>=6.2.0 in /home/studio-lab-user/.conda/envs/default/lib/python3.9/site-packages (from matplotlib) (9.5.0)\n",
      "Requirement already satisfied: numpy>=1.20 in /home/studio-lab-user/.conda/envs/default/lib/python3.9/site-packages (from matplotlib) (1.25.0)\n",
      "Requirement already satisfied: cycler>=0.10 in /home/studio-lab-user/.conda/envs/default/lib/python3.9/site-packages (from matplotlib) (0.11.0)\n",
      "Requirement already satisfied: contourpy>=1.0.1 in /home/studio-lab-user/.conda/envs/default/lib/python3.9/site-packages (from matplotlib) (1.1.0)\n",
      "Requirement already satisfied: kiwisolver>=1.0.1 in /home/studio-lab-user/.conda/envs/default/lib/python3.9/site-packages (from matplotlib) (1.4.4)\n",
      "Requirement already satisfied: python-dateutil>=2.7 in /home/studio-lab-user/.conda/envs/default/lib/python3.9/site-packages (from matplotlib) (2.8.2)\n",
      "Requirement already satisfied: importlib-resources>=3.2.0 in /home/studio-lab-user/.conda/envs/default/lib/python3.9/site-packages (from matplotlib) (5.12.0)\n",
      "Requirement already satisfied: packaging>=20.0 in /home/studio-lab-user/.conda/envs/default/lib/python3.9/site-packages (from matplotlib) (23.0)\n",
      "Requirement already satisfied: fonttools>=4.22.0 in /home/studio-lab-user/.conda/envs/default/lib/python3.9/site-packages (from matplotlib) (4.40.0)\n",
      "Requirement already satisfied: pyparsing>=2.3.1 in /home/studio-lab-user/.conda/envs/default/lib/python3.9/site-packages (from matplotlib) (3.1.0)\n",
      "Requirement already satisfied: zipp>=3.1.0 in /home/studio-lab-user/.conda/envs/default/lib/python3.9/site-packages (from importlib-resources>=3.2.0->matplotlib) (3.15.0)\n",
      "Requirement already satisfied: six>=1.5 in /home/studio-lab-user/.conda/envs/default/lib/python3.9/site-packages (from python-dateutil>=2.7->matplotlib) (1.16.0)\n",
      "Note: you may need to restart the kernel to use updated packages.\n",
      "Collecting tqdm\n",
      "  Downloading tqdm-4.65.0-py3-none-any.whl (77 kB)\n",
      "\u001b[K     |████████████████████████████████| 77 kB 7.5 MB/s  eta 0:00:01\n",
      "\u001b[?25hInstalling collected packages: tqdm\n",
      "Successfully installed tqdm-4.65.0\n",
      "Note: you may need to restart the kernel to use updated packages.\n"
     ]
    }
   ],
   "source": [
    "%pip install matplotlib\n",
    "%pip install tqdm"
   ]
  },
  {
   "cell_type": "code",
   "execution_count": 4,
   "metadata": {
    "tags": []
   },
   "outputs": [],
   "source": [
    "from data import get_data\n",
    "from model import NetLN\n",
    "from utils_train import train, test, infer\n",
    "from utils_plot import imshow, plot_misclassified\n",
    "import torch\n",
    "import numpy as np\n",
    "import torchvision\n"
   ]
  },
  {
   "cell_type": "code",
   "execution_count": 8,
   "metadata": {
    "tags": []
   },
   "outputs": [
    {
     "name": "stdout",
     "output_type": "stream",
     "text": [
      "Compose(\n",
      "    ToTensor()\n",
      ")\n",
      "Files already downloaded and verified\n",
      "Compose(\n",
      "    ToTensor()\n",
      ")\n",
      "Files already downloaded and verified\n"
     ]
    }
   ],
   "source": [
    "'''\n",
    "Loading data without normalization\n",
    "'''\n",
    "\n",
    "train_ds = get_data(train=True, normalize=False)\n",
    "test_ds = get_data(train=False, normalize=False)"
   ]
  },
  {
   "cell_type": "code",
   "execution_count": 9,
   "metadata": {
    "tags": []
   },
   "outputs": [
    {
     "name": "stdout",
     "output_type": "stream",
     "text": [
      "CUDA Available? True\n"
     ]
    }
   ],
   "source": [
    "'''\n",
    "Feeding the data to dataloader to get tensors\n",
    "'''\n",
    "\n",
    "\n",
    "\n",
    "SEED = 1\n",
    "\n",
    "# CUDA?\n",
    "cuda = torch.cuda.is_available()\n",
    "print(\"CUDA Available?\", cuda)\n",
    "\n",
    "# For reproducibility\n",
    "torch.manual_seed(SEED)\n",
    "\n",
    "if cuda:\n",
    "    torch.cuda.manual_seed(SEED)\n",
    "\n",
    "# dataloader arguments - something you'll fetch these from cmdprmt\n",
    "dataloader_args = dict(shuffle=True, batch_size=128, num_workers=4, pin_memory=True) if cuda else dict(shuffle=True, batch_size=64)\n",
    "\n",
    "# train dataloader\n",
    "train_loader = torch.utils.data.DataLoader(train_ds, **dataloader_args)\n",
    "\n",
    "# test dataloader\n",
    "test_loader = torch.utils.data.DataLoader(test_ds, **dataloader_args)"
   ]
  },
  {
   "cell_type": "code",
   "execution_count": 10,
   "metadata": {
    "tags": []
   },
   "outputs": [
    {
     "name": "stdout",
     "output_type": "stream",
     "text": [
      "[Train]\n",
      " - Numpy Shape: (50000, 32, 32, 3)\n",
      " - Tensor Shape: torch.Size([128, 3, 32, 32])\n",
      " - min: 0\n",
      " - max: 255\n",
      " - mean R: tensor(0.4870)\n",
      " - std R: tensor(0.2516)\n",
      " - var R: tensor(0.0633)\n",
      " - mean G: tensor(0.4835)\n",
      " - std G: tensor(0.2478)\n",
      " - var G: tensor(0.0614)\n",
      " - mean B: tensor(0.4535)\n",
      " - std B: tensor(0.2661)\n",
      " - var B: tensor(0.0708)\n"
     ]
    }
   ],
   "source": [
    "'''\n",
    "Getting statistics of the data to normalize accordingly\n",
    "'''\n",
    "\n",
    "dataiter = iter(train_loader)\n",
    "images, labels = next(dataiter)\n",
    "print('[Train]')\n",
    "print(' - Numpy Shape:', train_ds.data.shape)\n",
    "print(' - Tensor Shape:', images.size())\n",
    "print(' - min:', np.min(train_ds.data))\n",
    "print(' - max:', np.max(train_ds.data))\n",
    "print(' - mean R:', torch.mean(images[:, 0, :, :]))\n",
    "print(' - std R:', torch.std(images[:, 0, :, :]))\n",
    "print(' - var R:', torch.var(images[:, 0, :, :]))\n",
    "\n",
    "print(' - mean G:', torch.mean(images[:, 1, :, :]))\n",
    "print(' - std G:', torch.std(images[:, 1, :, :]))\n",
    "print(' - var G:', torch.var(images[:, 1, :, :]))\n",
    "\n",
    "print(' - mean B:', torch.mean(images[:, 2, :, :]))\n",
    "print(' - std B:', torch.std(images[:, 2, :, :]))\n",
    "print(' - var B:', torch.var(images[:, 2, :, :]))"
   ]
  },
  {
   "cell_type": "code",
   "execution_count": 2,
   "metadata": {
    "tags": []
   },
   "outputs": [
    {
     "name": "stdout",
     "output_type": "stream",
     "text": [
      "Compose(\n",
      "    ToTensor()\n",
      "    Normalize(mean=(0.5, 0.49, 0.45), std=(0.23, 0.23, 0.25))\n",
      ")\n",
      "Files already downloaded and verified\n",
      "Compose(\n",
      "    ToTensor()\n",
      "    Normalize(mean=(0.5, 0.49, 0.45), std=(0.23, 0.23, 0.25))\n",
      ")\n",
      "Files already downloaded and verified\n",
      "Compose(\n",
      "    ToTensor()\n",
      "    Normalize(mean=(0.5, 0.49, 0.45), std=(0.23, 0.23, 0.25))\n",
      ")\n",
      "Files already downloaded and verified\n"
     ]
    }
   ],
   "source": [
    "'''\n",
    "Getting normalized data\n",
    "'''\n",
    "\n",
    "train_ds = get_data(train=True, normalize=True)\n",
    "test_ds = get_data(train=False, normalize=True)\n",
    "infer_ds = get_data(train=False, normalize=True)"
   ]
  },
  {
   "cell_type": "code",
   "execution_count": 5,
   "metadata": {
    "tags": []
   },
   "outputs": [
    {
     "name": "stdout",
     "output_type": "stream",
     "text": [
      "CUDA Available? True\n"
     ]
    }
   ],
   "source": [
    "SEED = 1\n",
    "\n",
    "# CUDA?\n",
    "cuda = torch.cuda.is_available()\n",
    "print(\"CUDA Available?\", cuda)\n",
    "\n",
    "# For reproducibility\n",
    "torch.manual_seed(SEED)\n",
    "\n",
    "if cuda:\n",
    "    torch.cuda.manual_seed(SEED)\n",
    "\n",
    "# dataloader arguments - something you'll fetch these from cmdprmt\n",
    "dataloader_args = dict(shuffle=True, batch_size=128, num_workers=4, pin_memory=True) if cuda else dict(shuffle=True, batch_size=64)\n",
    "infer_dataloader_args = dict(shuffle=False, batch_size=1, num_workers=4, pin_memory=True)\n",
    "\n",
    "# train dataloader\n",
    "train_loader = torch.utils.data.DataLoader(train_ds, **dataloader_args)\n",
    "\n",
    "# test dataloader\n",
    "test_loader = torch.utils.data.DataLoader(test_ds, **dataloader_args)\n",
    "\n",
    "# infer dataloader\n",
    "infer_loader = torch.utils.data.DataLoader(infer_ds, **infer_dataloader_args)"
   ]
  },
  {
   "cell_type": "code",
   "execution_count": 6,
   "metadata": {
    "tags": []
   },
   "outputs": [
    {
     "name": "stdout",
     "output_type": "stream",
     "text": [
      "[Train]\n",
      " - Numpy Shape: (50000, 32, 32, 3)\n",
      " - Tensor Shape: torch.Size([128, 3, 32, 32])\n",
      " - min: 0\n",
      " - max: 255\n",
      " - mean R: tensor(-0.0567)\n",
      " - std R: tensor(1.0939)\n",
      " - var R: tensor(1.1967)\n",
      " - mean G: tensor(-0.0282)\n",
      " - std G: tensor(1.0774)\n",
      " - var G: tensor(1.1608)\n",
      " - mean B: tensor(0.0140)\n",
      " - std B: tensor(1.0643)\n",
      " - var B: tensor(1.1328)\n"
     ]
    }
   ],
   "source": [
    "dataiter = iter(train_loader)\n",
    "images, labels = next(dataiter)\n",
    "print('[Train]')\n",
    "print(' - Numpy Shape:', train_ds.data.shape)\n",
    "print(' - Tensor Shape:', images.size())\n",
    "print(' - min:', np.min(train_ds.data))\n",
    "print(' - max:', np.max(train_ds.data))\n",
    "print(' - mean R:', torch.mean(images[:, 0, :, :]))\n",
    "print(' - std R:', torch.std(images[:, 0, :, :]))\n",
    "print(' - var R:', torch.var(images[:, 0, :, :]))\n",
    "\n",
    "print(' - mean G:', torch.mean(images[:, 1, :, :]))\n",
    "print(' - std G:', torch.std(images[:, 1, :, :]))\n",
    "print(' - var G:', torch.var(images[:, 1, :, :]))\n",
    "\n",
    "print(' - mean B:', torch.mean(images[:, 2, :, :]))\n",
    "print(' - std B:', torch.std(images[:, 2, :, :]))\n",
    "print(' - var B:', torch.var(images[:, 2, :, :]))"
   ]
  },
  {
   "cell_type": "code",
   "execution_count": 14,
   "metadata": {
    "tags": []
   },
   "outputs": [
    {
     "name": "stderr",
     "output_type": "stream",
     "text": [
      "Clipping input data to the valid range for imshow with RGB data ([0..1] for floats or [0..255] for integers).\n"
     ]
    },
    {
     "data": {
      "image/png": "[encoded data removed]",
      "text/plain": [
       "<Figure size 640x480 with 1 Axes>"
      ]
     },
     "metadata": {},
     "output_type": "display_data"
    },
    {
     "name": "stdout",
     "output_type": "stream",
     "text": [
      "horse automobile automobile deer \n"
     ]
    }
   ],
   "source": [
    "# get some random training images\n",
    "batch_size=4\n",
    "dataiter = iter(train_loader)\n",
    "classes = train_ds.classes\n",
    "images, labels = next(dataiter)\n",
    "sampled_images = images[0: batch_size]\n",
    "sampled_labels = labels[0: batch_size]\n",
    "\n",
    "# show images\n",
    "imshow(torchvision.utils.make_grid(sampled_images))\n",
    "# print labels\n",
    "print(' '.join(f'{classes[sampled_labels[j]]:5s}' for j in range(batch_size)))"
   ]
  },
  {
   "cell_type": "code",
   "execution_count": 15,
   "metadata": {
    "tags": []
   },
   "outputs": [
    {
     "name": "stderr",
     "output_type": "stream",
     "text": [
      "Clipping input data to the valid range for imshow with RGB data ([0..1] for floats or [0..255] for integers).\n"
     ]
    },
    {
     "data": {
      "image/png": "[encoded data removed]",
      "text/plain": [
       "<Figure size 640x480 with 1 Axes>"
      ]
     },
     "metadata": {},
     "output_type": "display_data"
    },
    {
     "name": "stdout",
     "output_type": "stream",
     "text": [
      "cat   frog  airplane bird \n"
     ]
    }
   ],
   "source": [
    "# get some random testing images\n",
    "batch_size=4\n",
    "dataiter = iter(test_loader)\n",
    "classes = test_ds.classes\n",
    "images, labels = next(dataiter)\n",
    "sampled_images = images[0: batch_size]\n",
    "sampled_labels = labels[0: batch_size]\n",
    "\n",
    "# show images\n",
    "imshow(torchvision.utils.make_grid(sampled_images))\n",
    "# print labels\n",
    "print(' '.join(f'{classes[sampled_labels[j]]:5s}' for j in range(batch_size)))"
   ]
  },
  {
   "cell_type": "code",
   "execution_count": 7,
   "metadata": {
    "tags": []
   },
   "outputs": [
    {
     "name": "stdout",
     "output_type": "stream",
     "text": [
      "Requirement already satisfied: torchsummary in /home/studio-lab-user/.conda/envs/default/lib/python3.9/site-packages (1.5.1)\n",
      "cuda\n",
      "----------------------------------------------------------------\n",
      "        Layer (type)               Output Shape         Param #\n",
      "================================================================\n",
      "            Conv2d-1            [-1, 8, 32, 32]             216\n",
      "              ReLU-2            [-1, 8, 32, 32]               0\n",
      "         GroupNorm-3            [-1, 8, 32, 32]              16\n",
      "           Dropout-4            [-1, 8, 32, 32]               0\n",
      "            Conv2d-5            [-1, 8, 32, 32]             576\n",
      "              ReLU-6            [-1, 8, 32, 32]               0\n",
      "         GroupNorm-7            [-1, 8, 32, 32]              16\n",
      "           Dropout-8            [-1, 8, 32, 32]               0\n",
      "            Conv2d-9           [-1, 16, 32, 32]             128\n",
      "        GroupNorm-10           [-1, 16, 32, 32]              32\n",
      "        MaxPool2d-11           [-1, 16, 16, 16]               0\n",
      "           Conv2d-12           [-1, 16, 16, 16]           2,304\n",
      "             ReLU-13           [-1, 16, 16, 16]               0\n",
      "        GroupNorm-14           [-1, 16, 16, 16]              32\n",
      "          Dropout-15           [-1, 16, 16, 16]               0\n",
      "           Conv2d-16           [-1, 16, 16, 16]           2,304\n",
      "             ReLU-17           [-1, 16, 16, 16]               0\n",
      "        GroupNorm-18           [-1, 16, 16, 16]              32\n",
      "          Dropout-19           [-1, 16, 16, 16]               0\n",
      "           Conv2d-20           [-1, 16, 16, 16]           2,304\n",
      "             ReLU-21           [-1, 16, 16, 16]               0\n",
      "        GroupNorm-22           [-1, 16, 16, 16]              32\n",
      "          Dropout-23           [-1, 16, 16, 16]               0\n",
      "           Conv2d-24           [-1, 32, 16, 16]             512\n",
      "        GroupNorm-25           [-1, 32, 16, 16]              64\n",
      "        MaxPool2d-26             [-1, 32, 8, 8]               0\n",
      "           Conv2d-27             [-1, 32, 8, 8]           9,216\n",
      "             ReLU-28             [-1, 32, 8, 8]               0\n",
      "        GroupNorm-29             [-1, 32, 8, 8]              64\n",
      "          Dropout-30             [-1, 32, 8, 8]               0\n",
      "           Conv2d-31             [-1, 32, 8, 8]           9,216\n",
      "             ReLU-32             [-1, 32, 8, 8]               0\n",
      "        GroupNorm-33             [-1, 32, 8, 8]              64\n",
      "          Dropout-34             [-1, 32, 8, 8]               0\n",
      "           Conv2d-35             [-1, 32, 8, 8]           9,216\n",
      "        AvgPool2d-36             [-1, 32, 1, 1]               0\n",
      "           Conv2d-37             [-1, 10, 1, 1]             320\n",
      "================================================================\n",
      "Total params: 36,664\n",
      "Trainable params: 36,664\n",
      "Non-trainable params: 0\n",
      "----------------------------------------------------------------\n",
      "Input size (MB): 0.01\n",
      "Forward/backward pass size (MB): 1.44\n",
      "Params size (MB): 0.14\n",
      "Estimated Total Size (MB): 1.59\n",
      "----------------------------------------------------------------\n"
     ]
    }
   ],
   "source": [
    "!pip install torchsummary\n",
    "from torchsummary import summary\n",
    "use_cuda = torch.cuda.is_available()\n",
    "device = torch.device(\"cuda\" if use_cuda else \"cpu\")\n",
    "print(device)\n",
    "\n",
    "model = NetLN().to(device)\n",
    "summary(model, input_size=(3, 32, 32))"
   ]
  },
  {
   "cell_type": "code",
   "execution_count": 8,
   "metadata": {
    "tags": []
   },
   "outputs": [],
   "source": [
    "\n",
    "train_losses = []\n",
    "test_losses = []\n",
    "train_acc = []\n",
    "test_acc = []\n"
   ]
  },
  {
   "cell_type": "code",
   "execution_count": 9,
   "metadata": {
    "tags": []
   },
   "outputs": [
    {
     "name": "stdout",
     "output_type": "stream",
     "text": [
      "EPOCH: 0\n"
     ]
    },
    {
     "name": "stderr",
     "output_type": "stream",
     "text": [
      "Loss=1.3336771726608276 Batch_id=390 Accuracy=38.35: 100%|██████████| 391/391 [00:11<00:00, 33.06it/s]\n"
     ]
    },
    {
     "name": "stdout",
     "output_type": "stream",
     "text": [
      "\n",
      "Test set: Average loss: 1.4480, Accuracy: 4776/10000 (47.76%)\n",
      "\n",
      "EPOCH: 1\n"
     ]
    },
    {
     "name": "stderr",
     "output_type": "stream",
     "text": [
      "Loss=1.3270220756530762 Batch_id=390 Accuracy=52.65: 100%|██████████| 391/391 [00:11<00:00, 33.97it/s]\n"
     ]
    },
    {
     "name": "stdout",
     "output_type": "stream",
     "text": [
      "\n",
      "Test set: Average loss: 1.1897, Accuracy: 5687/10000 (56.87%)\n",
      "\n",
      "EPOCH: 2\n"
     ]
    },
    {
     "name": "stderr",
     "output_type": "stream",
     "text": [
      "Loss=1.1842854022979736 Batch_id=390 Accuracy=59.75: 100%|██████████| 391/391 [00:11<00:00, 33.84it/s]\n"
     ]
    },
    {
     "name": "stdout",
     "output_type": "stream",
     "text": [
      "\n",
      "Test set: Average loss: 1.0661, Accuracy: 6143/10000 (61.43%)\n",
      "\n",
      "EPOCH: 3\n"
     ]
    },
    {
     "name": "stderr",
     "output_type": "stream",
     "text": [
      "Loss=0.9656075239181519 Batch_id=390 Accuracy=63.54: 100%|██████████| 391/391 [00:11<00:00, 33.97it/s]\n"
     ]
    },
    {
     "name": "stdout",
     "output_type": "stream",
     "text": [
      "\n",
      "Test set: Average loss: 1.0319, Accuracy: 6276/10000 (62.76%)\n",
      "\n",
      "EPOCH: 4\n"
     ]
    },
    {
     "name": "stderr",
     "output_type": "stream",
     "text": [
      "Loss=0.7987731099128723 Batch_id=390 Accuracy=66.54: 100%|██████████| 391/391 [00:11<00:00, 34.13it/s]\n"
     ]
    },
    {
     "name": "stdout",
     "output_type": "stream",
     "text": [
      "\n",
      "Test set: Average loss: 0.9582, Accuracy: 6626/10000 (66.26%)\n",
      "\n",
      "EPOCH: 5\n"
     ]
    },
    {
     "name": "stderr",
     "output_type": "stream",
     "text": [
      "Loss=0.9298941493034363 Batch_id=390 Accuracy=68.77: 100%|██████████| 391/391 [00:11<00:00, 33.36it/s]\n"
     ]
    },
    {
     "name": "stdout",
     "output_type": "stream",
     "text": [
      "\n",
      "Test set: Average loss: 0.8662, Accuracy: 6893/10000 (68.93%)\n",
      "\n",
      "EPOCH: 6\n"
     ]
    },
    {
     "name": "stderr",
     "output_type": "stream",
     "text": [
      "Loss=0.9769374132156372 Batch_id=390 Accuracy=70.76: 100%|██████████| 391/391 [00:11<00:00, 34.27it/s]\n"
     ]
    },
    {
     "name": "stdout",
     "output_type": "stream",
     "text": [
      "\n",
      "Test set: Average loss: 0.8256, Accuracy: 7034/10000 (70.34%)\n",
      "\n",
      "EPOCH: 7\n"
     ]
    },
    {
     "name": "stderr",
     "output_type": "stream",
     "text": [
      "Loss=0.870637059211731 Batch_id=390 Accuracy=72.49: 100%|██████████| 391/391 [00:11<00:00, 33.17it/s] \n"
     ]
    },
    {
     "name": "stdout",
     "output_type": "stream",
     "text": [
      "\n",
      "Test set: Average loss: 0.8256, Accuracy: 7061/10000 (70.61%)\n",
      "\n",
      "EPOCH: 8\n"
     ]
    },
    {
     "name": "stderr",
     "output_type": "stream",
     "text": [
      "Loss=0.8012576103210449 Batch_id=390 Accuracy=73.79: 100%|██████████| 391/391 [00:11<00:00, 33.04it/s]\n"
     ]
    },
    {
     "name": "stdout",
     "output_type": "stream",
     "text": [
      "\n",
      "Test set: Average loss: 0.7956, Accuracy: 7210/10000 (72.10%)\n",
      "\n",
      "EPOCH: 9\n"
     ]
    },
    {
     "name": "stderr",
     "output_type": "stream",
     "text": [
      "Loss=1.0533349514007568 Batch_id=390 Accuracy=74.54: 100%|██████████| 391/391 [00:11<00:00, 32.59it/s] \n"
     ]
    },
    {
     "name": "stdout",
     "output_type": "stream",
     "text": [
      "\n",
      "Test set: Average loss: 0.7883, Accuracy: 7247/10000 (72.47%)\n",
      "\n",
      "EPOCH: 10\n"
     ]
    },
    {
     "name": "stderr",
     "output_type": "stream",
     "text": [
      "Loss=0.7180527448654175 Batch_id=390 Accuracy=75.72: 100%|██████████| 391/391 [00:11<00:00, 34.07it/s] \n"
     ]
    },
    {
     "name": "stdout",
     "output_type": "stream",
     "text": [
      "\n",
      "Test set: Average loss: 0.7603, Accuracy: 7362/10000 (73.62%)\n",
      "\n",
      "EPOCH: 11\n"
     ]
    },
    {
     "name": "stderr",
     "output_type": "stream",
     "text": [
      "Loss=0.5983060002326965 Batch_id=390 Accuracy=76.47: 100%|██████████| 391/391 [00:10<00:00, 36.39it/s] \n"
     ]
    },
    {
     "name": "stdout",
     "output_type": "stream",
     "text": [
      "\n",
      "Test set: Average loss: 0.7198, Accuracy: 7434/10000 (74.34%)\n",
      "\n",
      "EPOCH: 12\n"
     ]
    },
    {
     "name": "stderr",
     "output_type": "stream",
     "text": [
      "Loss=0.8712477684020996 Batch_id=390 Accuracy=77.09: 100%|██████████| 391/391 [00:06<00:00, 57.34it/s] \n"
     ]
    },
    {
     "name": "stdout",
     "output_type": "stream",
     "text": [
      "\n",
      "Test set: Average loss: 0.7299, Accuracy: 7466/10000 (74.66%)\n",
      "\n",
      "EPOCH: 13\n"
     ]
    },
    {
     "name": "stderr",
     "output_type": "stream",
     "text": [
      "Loss=0.6492059230804443 Batch_id=390 Accuracy=77.80: 100%|██████████| 391/391 [00:06<00:00, 56.13it/s] \n"
     ]
    },
    {
     "name": "stdout",
     "output_type": "stream",
     "text": [
      "\n",
      "Test set: Average loss: 0.7327, Accuracy: 7439/10000 (74.39%)\n",
      "\n",
      "EPOCH: 14\n"
     ]
    },
    {
     "name": "stderr",
     "output_type": "stream",
     "text": [
      "Loss=0.6020802855491638 Batch_id=390 Accuracy=78.20: 100%|██████████| 391/391 [00:06<00:00, 64.72it/s] \n"
     ]
    },
    {
     "name": "stdout",
     "output_type": "stream",
     "text": [
      "\n",
      "Test set: Average loss: 0.7458, Accuracy: 7446/10000 (74.46%)\n",
      "\n",
      "EPOCH: 15\n"
     ]
    },
    {
     "name": "stderr",
     "output_type": "stream",
     "text": [
      "Loss=0.612617552280426 Batch_id=390 Accuracy=79.02: 100%|██████████| 391/391 [00:06<00:00, 63.72it/s]  \n"
     ]
    },
    {
     "name": "stdout",
     "output_type": "stream",
     "text": [
      "\n",
      "Test set: Average loss: 0.7185, Accuracy: 7534/10000 (75.34%)\n",
      "\n",
      "EPOCH: 16\n"
     ]
    },
    {
     "name": "stderr",
     "output_type": "stream",
     "text": [
      "Loss=0.6922038793563843 Batch_id=390 Accuracy=79.27: 100%|██████████| 391/391 [00:06<00:00, 64.89it/s] \n"
     ]
    },
    {
     "name": "stdout",
     "output_type": "stream",
     "text": [
      "\n",
      "Test set: Average loss: 0.7257, Accuracy: 7465/10000 (74.65%)\n",
      "\n",
      "EPOCH: 17\n"
     ]
    },
    {
     "name": "stderr",
     "output_type": "stream",
     "text": [
      "Loss=0.7331057786941528 Batch_id=390 Accuracy=79.85: 100%|██████████| 391/391 [00:06<00:00, 64.09it/s] \n"
     ]
    },
    {
     "name": "stdout",
     "output_type": "stream",
     "text": [
      "\n",
      "Test set: Average loss: 0.7229, Accuracy: 7478/10000 (74.78%)\n",
      "\n",
      "EPOCH: 18\n"
     ]
    },
    {
     "name": "stderr",
     "output_type": "stream",
     "text": [
      "Loss=0.467136949300766 Batch_id=390 Accuracy=80.00: 100%|██████████| 391/391 [00:06<00:00, 64.77it/s]  \n"
     ]
    },
    {
     "name": "stdout",
     "output_type": "stream",
     "text": [
      "\n",
      "Test set: Average loss: 0.6848, Accuracy: 7600/10000 (76.00%)\n",
      "\n",
      "EPOCH: 19\n"
     ]
    },
    {
     "name": "stderr",
     "output_type": "stream",
     "text": [
      "Loss=0.4611073136329651 Batch_id=390 Accuracy=80.56: 100%|██████████| 391/391 [00:06<00:00, 64.58it/s] \n"
     ]
    },
    {
     "name": "stdout",
     "output_type": "stream",
     "text": [
      "\n",
      "Test set: Average loss: 0.6969, Accuracy: 7593/10000 (75.93%)\n",
      "\n"
     ]
    }
   ],
   "source": [
    "from torch.optim.lr_scheduler import StepLR\n",
    "model =  NetLN().to(device)\n",
    "optimizer = torch.optim.SGD(model.parameters(), lr=0.01, momentum=0.9)\n",
    "# scheduler = StepLR(optimizer, step_size=8, gamma=0.1)\n",
    "EPOCHS = 20\n",
    "for epoch in range(EPOCHS):\n",
    "    print(\"EPOCH:\", epoch)\n",
    "    train(model, device, train_loader, optimizer, epoch, train_losses, train_acc)\n",
    "    # scheduler.step()\n",
    "    test(model, device, test_loader, test_losses, test_acc)\n",
    "    # scheduler.step(test_acc[-1])"
   ]
  },
  {
   "cell_type": "code",
   "execution_count": 7,
   "metadata": {},
   "outputs": [],
   "source": [
    "misclassified = []\n",
    "infer(model, device, infer_loader, misclassified)\n"
   ]
  },
  {
   "cell_type": "code",
   "execution_count": null,
   "metadata": {},
   "outputs": [],
   "source": [
    "plot_misclassified(infer_ds, misclassified)"
   ]
  },
  {
   "cell_type": "code",
   "execution_count": 10,
   "metadata": {
    "tags": []
   },
   "outputs": [
    {
     "data": {
      "text/plain": [
       "Text(0.5, 1.0, 'Test Accuracy')"
      ]
     },
     "execution_count": 10,
     "metadata": {},
     "output_type": "execute_result"
    },
    {
     "data": {
      "image/png": "[encoded data removed]",
      "text/plain": [
       "<Figure size 1500x1000 with 4 Axes>"
      ]
     },
     "metadata": {},
     "output_type": "display_data"
    }
   ],
   "source": [
    "t = [t_items.item() for t_items in train_losses]\n",
    "%matplotlib inline\n",
    "import matplotlib.pyplot as plt\n",
    "fig, axs = plt.subplots(2,2,figsize=(15,10))\n",
    "axs[0, 0].plot(t)\n",
    "axs[0, 0].set_title(\"Training Loss\")\n",
    "axs[1, 0].plot(train_acc)\n",
    "axs[1, 0].set_title(\"Training Accuracy\")\n",
    "axs[0, 1].plot(test_losses)\n",
    "axs[0, 1].set_title(\"Test Loss\")\n",
    "axs[1, 1].plot(test_acc)\n",
    "axs[1, 1].set_title(\"Test Accuracy\")"
   ]
  },
  {
   "cell_type": "code",
   "execution_count": null,
   "metadata": {},
   "outputs": [],
   "source": []
  }
 ],
 "metadata": {
  "kernelspec": {
   "display_name": "default:Python",
   "language": "python",
   "name": "conda-env-default-py"
  },
  "language_info": {
   "codemirror_mode": {
    "name": "ipython",
    "version": 3
   },
   "file_extension": ".py",
   "mimetype": "text/x-python",
   "name": "python",
   "nbconvert_exporter": "python",
   "pygments_lexer": "ipython3",
   "version": "3.9.16"
  }
 },
 "nbformat": 4,
 "nbformat_minor": 4
}
